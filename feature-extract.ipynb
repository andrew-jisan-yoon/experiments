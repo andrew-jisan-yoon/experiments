{
 "cells": [
  {
   "cell_type": "markdown",
   "metadata": {},
   "source": [
    "# Experiments on feature extraction algorithms"
   ]
  },
  {
   "cell_type": "markdown",
   "metadata": {},
   "source": [
    "# Installing libraries"
   ]
  },
  {
   "cell_type": "code",
   "execution_count": 1,
   "metadata": {},
   "outputs": [
    {
     "name": "stderr",
     "output_type": "stream",
     "text": [
      "ERROR: Could not find a version that satisfies the requirement opencv-python==4.4.0 (from versions: 3.4.8.29, 3.4.9.31, 3.4.9.33, 3.4.10.35, 3.4.10.37, 3.4.11.39, 3.4.11.41, 4.1.2.30, 4.2.0.32, 4.2.0.34, 4.3.0.36, 4.3.0.38, 4.4.0.40, 4.4.0.42)\n",
      "ERROR: No matching distribution found for opencv-python==4.4.0\n"
     ]
    },
    {
     "name": "stdout",
     "output_type": "stream",
     "text": [
      "Requirement already satisfied: matplotlib==3.3.1 in c:\\users\\humbleman\\anaconda3\\envs\\experiments\\lib\\site-packages (3.3.1)\n",
      "Requirement already satisfied: kiwisolver>=1.0.1 in c:\\users\\humbleman\\anaconda3\\envs\\experiments\\lib\\site-packages (from matplotlib==3.3.1) (1.2.0)\n",
      "Requirement already satisfied: pyparsing!=2.0.4,!=2.1.2,!=2.1.6,>=2.0.3 in c:\\users\\humbleman\\anaconda3\\envs\\experiments\\lib\\site-packages (from matplotlib==3.3.1) (2.4.7)\n",
      "Requirement already satisfied: numpy>=1.15 in c:\\users\\humbleman\\anaconda3\\envs\\experiments\\lib\\site-packages (from matplotlib==3.3.1) (1.19.1)\n",
      "Requirement already satisfied: cycler>=0.10 in c:\\users\\humbleman\\anaconda3\\envs\\experiments\\lib\\site-packages (from matplotlib==3.3.1) (0.10.0)\n",
      "Requirement already satisfied: python-dateutil>=2.1 in c:\\users\\humbleman\\anaconda3\\envs\\experiments\\lib\\site-packages (from matplotlib==3.3.1) (2.8.1)\n",
      "Requirement already satisfied: certifi>=2020.06.20 in c:\\users\\humbleman\\anaconda3\\envs\\experiments\\lib\\site-packages (from matplotlib==3.3.1) (2020.6.20)\n",
      "Requirement already satisfied: pillow>=6.2.0 in c:\\users\\humbleman\\anaconda3\\envs\\experiments\\lib\\site-packages (from matplotlib==3.3.1) (7.2.0)\n",
      "Requirement already satisfied: six in c:\\users\\humbleman\\anaconda3\\envs\\experiments\\lib\\site-packages (from cycler>=0.10->matplotlib==3.3.1) (1.15.0)\n"
     ]
    }
   ],
   "source": [
    "!pip install opencv-python==4.4.0\n",
    "!pip install matplotlib==3.3.1"
   ]
  },
  {
   "cell_type": "code",
   "execution_count": 2,
   "metadata": {},
   "outputs": [],
   "source": [
    "from pathlib import Path\n",
    "root_dir = Path('.').resolve().__str__()"
   ]
  },
  {
   "cell_type": "markdown",
   "metadata": {},
   "source": [
    "# Demo : Canny edge detection algorithm"
   ]
  },
  {
   "cell_type": "code",
   "execution_count": 3,
   "metadata": {},
   "outputs": [],
   "source": [
    "import cv2\n",
    "import numpy as np\n",
    "from matplotlib import pyplot as plt\n",
    "from ipywidgets import interactive, fixed\n",
    "from IPython.display import display"
   ]
  },
  {
   "cell_type": "markdown",
   "metadata": {},
   "source": [
    "Read the image. Here, a foggy image is chosen to confirm how the algorithm handles fog."
   ]
  },
  {
   "cell_type": "code",
   "execution_count": 4,
   "metadata": {},
   "outputs": [],
   "source": [
    "img_foggy = cv2.imread(root_dir + '/data/CristinaMittermeier-FoggyTrees.jpg',\n",
    "                       cv2.IMREAD_GRAYSCALE)"
   ]
  },
  {
   "cell_type": "markdown",
   "metadata": {},
   "source": [
    "Display the original image and edge image in interactive format.<br/>\n",
    "Use the sliders to estimate how the parameters impact on Canny algorithm's performance.<br/>\n",
    "\n",
    "The parameters, `threshold1` and `threshold2`, provide cut-off values for intensity gradients of edges. Edges with intensity gradient below the smaller of the thresholds are classified non-edges and those above the bigger of them are classified edges. Those between the threshold values are classified as edges only if they are connected to edges."
   ]
  },
  {
   "cell_type": "code",
   "execution_count": 5,
   "metadata": {},
   "outputs": [
    {
     "data": {
      "application/vnd.jupyter.widget-view+json": {
       "model_id": "95a9c797f34f4be28f78ff4bb184aa43",
       "version_major": 2,
       "version_minor": 0
      },
      "text/plain": [
       "interactive(children=(IntSlider(value=100, description='threshold1', max=300, min=-100), IntSlider(value=200, …"
      ]
     },
     "metadata": {},
     "output_type": "display_data"
    }
   ],
   "source": [
    "def show_edges(img, threshold1, threshold2, apertureSize, L2gradient):\n",
    "    \"\"\"\n",
    "    Parameters:\n",
    "        img (numpy array) : image file\n",
    "        threshold1 (int) : a value for hysteresis thresholding\n",
    "        threshold2 (int) : a value for hysteresis thresholding\n",
    "        apertureSize (int; 3, 5, or 7) : aperture size for the Sobel operator.\n",
    "        L2gradient (bool) : a flag, indicating whether L_1 norm (=False) or a more accurate\n",
    "                            L_2 norm (=True) should be used.\n",
    "    \"\"\"\n",
    "    f = plt.figure(figsize=(20, 7))\n",
    "    ax = f.add_subplot(121)\n",
    "    ax2 = f.add_subplot(122)\n",
    "\n",
    "    ax.set_title(\"Original image\"), ax.set_xticks([]), ax.set_yticks([])\n",
    "    ax2.set_title(\"Edge Image\"), ax2.set_xticks([]), ax2.set_yticks([])\n",
    "\n",
    "    ax.imshow(img, cmap = 'gray')\n",
    "    \n",
    "    edges = cv2.Canny(img, threshold1, threshold2,\n",
    "                      apertureSize=apertureSize,\n",
    "                      L2gradient=L2gradient)\n",
    "    ax2.imshow(edges, cmap = 'gray')\n",
    "    \n",
    "    plt.show()\n",
    "\n",
    "#==============\n",
    "\n",
    "interactive_plot = interactive(show_edges, img=fixed(img_foggy),\n",
    "                              threshold1=100, threshold2=200,\n",
    "                              apertureSize=(3, 7, 2), L2gradient=False)\n",
    "interactive_plot"
   ]
  },
  {
   "cell_type": "markdown",
   "metadata": {},
   "source": [
    "## Observations and questions\n",
    "1. `apertureSize` impacts on the result disproportionately. What is the use of `aperturesize` higher than 3?\n",
    "2. `L2gradient==True` reliably delivers more refined result. In what cases would `L2gradient==False` be preferred?\n",
    "3. When fed negative values for both of the thresholds, Canny algorithm classifies as edges the slightest changes of color in the fog. This behavior suggests the threshold values should be manually selected for every use case. Is there an efficient way to restrict threshold values so that Canny algorithm detects edges of objects only in arbitrary images?"
   ]
  },
  {
   "cell_type": "markdown",
   "metadata": {},
   "source": [
    "## Implications\n",
    "1. Canny edge detection algorithm might be able to mass-produce edges from batches of random images, if improved in reliability."
   ]
  },
  {
   "cell_type": "markdown",
   "metadata": {},
   "source": [
    "## Possible improvements\n",
    "1. Canny edge detection algorithm is susceptible to error when given foggy images. Object detection technology (ex. Mask R-CNN) might help overcome this problem."
   ]
  }
 ],
 "metadata": {
  "kernelspec": {
   "display_name": "Python 3",
   "language": "python",
   "name": "python3"
  },
  "language_info": {
   "codemirror_mode": {
    "name": "ipython",
    "version": 3
   },
   "file_extension": ".py",
   "mimetype": "text/x-python",
   "name": "python",
   "nbconvert_exporter": "python",
   "pygments_lexer": "ipython3",
   "version": "3.8.5"
  }
 },
 "nbformat": 4,
 "nbformat_minor": 4
}
